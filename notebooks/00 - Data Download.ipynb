{
 "cells": [
  {
   "cell_type": "code",
   "execution_count": 1,
   "id": "08f3d0d1-bd3e-4198-b6d1-17c6af539acd",
   "metadata": {
    "tags": []
   },
   "outputs": [],
   "source": [
    "import pandas as pd"
   ]
  },
  {
   "cell_type": "code",
   "execution_count": 2,
   "id": "b0175b96-f999-4c2c-b3d5-b7e1088948f9",
   "metadata": {
    "tags": []
   },
   "outputs": [],
   "source": [
    "df = pd.read_csv('https://raw.githubusercontent.com/atlantico-academy/datasets/refs/heads/main/tips.csv')"
   ]
  },
  {
   "cell_type": "code",
   "execution_count": 3,
   "id": "8c7859ef-19e9-4506-bd8c-787c83f52659",
   "metadata": {
    "tags": []
   },
   "outputs": [],
   "source": [
    "#Salvar dados na pasta RAW\n",
    "df = df.to_csv('../data/raw/data.csv')"
   ]
  },
  {
   "cell_type": "code",
   "execution_count": 19,
   "id": "30573165-e6ab-4cef-bbd5-7e9b7e189174",
   "metadata": {
    "tags": []
   },
   "outputs": [],
   "source": [
    "#Criar dicionário de dados\n",
    "\n",
    "data_dictionary = pd.DataFrame([\n",
    "    {\n",
    "        'variavel': 'total_bill',\n",
    "        'descricao': 'tip in dollars',\n",
    "        'tipo': 'quantitativa',\n",
    "        'subtipo': 'contínua',\n",
    "    },\n",
    "    {\n",
    "        'variavel': 'tip',\n",
    "        'descricao': 'bill in dollars',\n",
    "        'tipo': 'quantitativa',\n",
    "        'subtipo': 'contínua',\n",
    "    },\n",
    "    {\n",
    "        'variavel': 'sex',\n",
    "        'descricao': 'sex of the bill payer',\n",
    "        'tipo': 'qualitativa',\n",
    "        'subtipo': 'nominal',\n",
    "    },\n",
    "    {\n",
    "        'variavel': 'smoker',\n",
    "        'descricao': 'whether there were smokers in the party',\n",
    "        'tipo': 'qualitativa',\n",
    "        'subtipo': 'nominal',\n",
    "    },\n",
    "    {\n",
    "        'variavel': 'day',\n",
    "        'descricao': 'day of the week',\n",
    "        'tipo': 'qualitativa',\n",
    "        'subtipo': 'nominal',\n",
    "    },\n",
    "    {\n",
    "        'variavel': 'time',\n",
    "        'descricao': 'time of day',\n",
    "        'tipo': 'qualitativa',\n",
    "        'subtipo': 'nominal',\n",
    "    },\n",
    "    {\n",
    "        'variavel': 'size',\n",
    "        'descricao': 'size of the party',\n",
    "        'tipo': 'quantitativa',\n",
    "        'subtipo': 'discreta'\n",
    "    }\n",
    "])\n",
    "\n",
    "#Salvar dicionário de dados\n",
    "\n",
    "data_dictionary.to_csv(\"../data/external/dictionary.csv\", index= False)"
   ]
  },
  {
   "cell_type": "code",
   "execution_count": 20,
   "id": "983bd4f6-69ba-47ef-94c8-8b47ed4353a4",
   "metadata": {
    "tags": []
   },
   "outputs": [
    {
     "data": {
      "text/html": [
       "<div>\n",
       "<style scoped>\n",
       "    .dataframe tbody tr th:only-of-type {\n",
       "        vertical-align: middle;\n",
       "    }\n",
       "\n",
       "    .dataframe tbody tr th {\n",
       "        vertical-align: top;\n",
       "    }\n",
       "\n",
       "    .dataframe thead th {\n",
       "        text-align: right;\n",
       "    }\n",
       "</style>\n",
       "<table border=\"1\" class=\"dataframe\">\n",
       "  <thead>\n",
       "    <tr style=\"text-align: right;\">\n",
       "      <th></th>\n",
       "      <th>variavel</th>\n",
       "      <th>descricao</th>\n",
       "      <th>tipo</th>\n",
       "      <th>subtipo</th>\n",
       "    </tr>\n",
       "  </thead>\n",
       "  <tbody>\n",
       "    <tr>\n",
       "      <th>0</th>\n",
       "      <td>total_bill</td>\n",
       "      <td>tip in dollars</td>\n",
       "      <td>quantitativa</td>\n",
       "      <td>contínua</td>\n",
       "    </tr>\n",
       "    <tr>\n",
       "      <th>1</th>\n",
       "      <td>tip</td>\n",
       "      <td>bill in dollars</td>\n",
       "      <td>quantitativa</td>\n",
       "      <td>contínua</td>\n",
       "    </tr>\n",
       "    <tr>\n",
       "      <th>2</th>\n",
       "      <td>sex</td>\n",
       "      <td>sex of the bill payer</td>\n",
       "      <td>qualitativa</td>\n",
       "      <td>nominal</td>\n",
       "    </tr>\n",
       "    <tr>\n",
       "      <th>3</th>\n",
       "      <td>smoker</td>\n",
       "      <td>whether there were smokers in the party</td>\n",
       "      <td>qualitativa</td>\n",
       "      <td>nominal</td>\n",
       "    </tr>\n",
       "    <tr>\n",
       "      <th>4</th>\n",
       "      <td>day</td>\n",
       "      <td>day of the week</td>\n",
       "      <td>qualitativa</td>\n",
       "      <td>nominal</td>\n",
       "    </tr>\n",
       "    <tr>\n",
       "      <th>5</th>\n",
       "      <td>time</td>\n",
       "      <td>time of day</td>\n",
       "      <td>qualitativa</td>\n",
       "      <td>nominal</td>\n",
       "    </tr>\n",
       "    <tr>\n",
       "      <th>6</th>\n",
       "      <td>size</td>\n",
       "      <td>size of the party</td>\n",
       "      <td>quantitativa</td>\n",
       "      <td>discreta</td>\n",
       "    </tr>\n",
       "  </tbody>\n",
       "</table>\n",
       "</div>"
      ],
      "text/plain": [
       "     variavel                                descricao          tipo   subtipo\n",
       "0  total_bill                           tip in dollars  quantitativa  contínua\n",
       "1         tip                          bill in dollars  quantitativa  contínua\n",
       "2         sex                    sex of the bill payer   qualitativa   nominal\n",
       "3      smoker  whether there were smokers in the party   qualitativa   nominal\n",
       "4         day                          day of the week   qualitativa   nominal\n",
       "5        time                              time of day   qualitativa   nominal\n",
       "6        size                        size of the party  quantitativa  discreta"
      ]
     },
     "execution_count": 20,
     "metadata": {},
     "output_type": "execute_result"
    }
   ],
   "source": [
    "data_dictionary"
   ]
  }
 ],
 "metadata": {
  "kernelspec": {
   "display_name": "Python 3 (ipykernel)",
   "language": "python",
   "name": "python3"
  },
  "language_info": {
   "codemirror_mode": {
    "name": "ipython",
    "version": 3
   },
   "file_extension": ".py",
   "mimetype": "text/x-python",
   "name": "python",
   "nbconvert_exporter": "python",
   "pygments_lexer": "ipython3",
   "version": "3.10.11"
  }
 },
 "nbformat": 4,
 "nbformat_minor": 5
}
