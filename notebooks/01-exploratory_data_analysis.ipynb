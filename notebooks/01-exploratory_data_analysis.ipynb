{
 "cells": [
  {
   "cell_type": "markdown",
   "metadata": {},
   "source": [
    "# Análise exploratória de dados"
   ]
  },
  {
   "cell_type": "code",
   "execution_count": null,
   "metadata": {},
   "outputs": [],
   "source": [
    "import pandas as pd"
   ]
  },
  {
   "cell_type": "markdown",
   "metadata": {},
   "source": [
    "## 1. Descrição dos dados"
   ]
  },
  {
   "cell_type": "markdown",
   "metadata": {},
   "source": [
    "O seguinte dataset foi coletado em um restaurante e documenta informações relacionadas ao comportamento de consumo e gorjetas deixadas por clientes. Ele é pode ser utilizado em análises de dados para explorar a relação entre variáveis financeiras (como valor da conta e gorjeta) e fatores contextuais(como gênero, dia da semana, período da refeição e tabagismo)."
   ]
  },
  {
   "cell_type": "markdown",
   "metadata": {},
   "source": [
    "## 2. Perguntas de partida e hipóteses"
   ]
  },
  {
   "cell_type": "markdown",
   "metadata": {},
   "source": [
    "## 2.1. Podemos seguir com as seguintes perguntas: \n",
    "- Qual é a média e a mediana das gorjetas dadas?\n",
    "- Qual é o valor mínimo e máximo de gorjetas?\n",
    "- As gorjetas variam com o dia da semana?\n",
    "- Existe diferença entre as gorjetas no almoço (Lunch) e no jantar (Dinner)?\n",
    "- Gorjetas maiores são dadas para mesas com mais pessoas?\n",
    "- Qual é o tamanho médio de grupos que contribuem com as maiores gorjetas?\n",
    "- Qual é a relação entre o valor da conta total (total_bill) e a gorjeta (tip)?\n",
    "- Existem diferenças significativas nas gorjetas deixadas por clientes fumantes e não fumantes?\n",
    "- O gênero do cliente influencia o valor da gorjeta?\n",
    "- Em qual dia da semana as gorjetas são mais altas, em média?\n",
    "- Existem padrões de gastos nos dias do final de semana (Saturday e Sunday)?\n",
    "\n",
    "\n",
    "\n",
    "## 2.1. Hipóteses:\n",
    "- \"Gorjetas são maiores nos finais de semana do que durante a semana.\"\n",
    "- \"Jantares (Dinner) resultam em gorjetas maiores do que almoços (Lunch).\"\n",
    "- \"Grupos maiores (mais pessoas) tendem a deixar gorjetas proporcionalmente menores em relação à conta total.\"\n",
    "- \"Mulheres tendem a deixar gorjetas maiores do que homens.\"\n",
    "- Correlação entre gorjeta e contas;\n"
   ]
  },
  {
   "cell_type": "markdown",
   "metadata": {},
   "source": [
    "## 3. Insights"
   ]
  },
  {
   "cell_type": "markdown",
   "metadata": {},
   "source": [
    "- Gorjetas tendem a ser mais altas nos finais de semana (especialmente no sábado e domingo), devido a contas maiores e grupos maiores.\n",
    "- Gorjetas tendem a ser mais altas nos finais de semana (especialmente no sábado e domingo), devido a contas maiores e grupos maiores.\n",
    "- Grupos maiores tendem a deixar gorjetas menores proporcionalmente à conta total, mas o valor absoluto das gorjetas ainda é maior.\n",
    "- Não fumantes geralmente deixam gorjetas maiores do que fumantes.\n",
    "- Pode haver diferenças nos padrões de gorjeta baseados no gênero, como mulheres deixando gorjetas maiores proporcionalmente ou homens gastando mais em contas totais."
   ]
  },
  {
   "cell_type": "code",
   "execution_count": null,
   "metadata": {},
   "outputs": [],
   "source": []
  }
 ],
 "metadata": {
  "kernelspec": {
   "display_name": "Python 3 (ipykernel)",
   "language": "python",
   "name": "python3"
  },
  "language_info": {
   "codemirror_mode": {
    "name": "ipython",
    "version": 3
   },
   "file_extension": ".py",
   "mimetype": "text/x-python",
   "name": "python",
   "nbconvert_exporter": "python",
   "pygments_lexer": "ipython3",
   "version": "3.10.11"
  },
  "vscode": {
   "interpreter": {
    "hash": "eb3c3305d8b111f0102f4f519c5f17abd113fe74db6752c355e994a9008815ef"
   }
  }
 },
 "nbformat": 4,
 "nbformat_minor": 2
}
